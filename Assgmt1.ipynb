{
  "nbformat": 4,
  "nbformat_minor": 0,
  "metadata": {
    "colab": {
      "provenance": [],
      "authorship_tag": "ABX9TyMjVwu4K8pdDrxCZq2o8hoF"
    },
    "kernelspec": {
      "name": "python3",
      "display_name": "Python 3"
    },
    "language_info": {
      "name": "python"
    }
  },
  "cells": [
    {
      "cell_type": "code",
      "execution_count": null,
      "metadata": {
        "id": "ut6cAYylwhGJ"
      },
      "outputs": [],
      "source": [
        "import pandas as pd\n",
        "import numpy as np"
      ]
    },
    {
      "cell_type": "markdown",
      "source": [
        "#Task 1: Create a pandas DataFrame"
      ],
      "metadata": {
        "id": "e3V198ERw1Zw"
      }
    },
    {
      "cell_type": "code",
      "source": [
        "data = {\n",
        "    'Feature1': np.random.rand(10),\n",
        "    'Feature2': np.random.randint(1, 100, 10),\n",
        "    'Feature3': np.random.choice(['A', 'B', 'C'], 10),\n",
        "    'Feature4': np.random.randn(10),\n",
        "    'Feature5': np.random.choice([True, False], 10)\n",
        "}\n",
        "\n",
        "df = pd.DataFrame(data)\n",
        "df"
      ],
      "metadata": {
        "colab": {
          "base_uri": "https://localhost:8080/",
          "height": 363
        },
        "id": "S0kAHAEPwqvB",
        "outputId": "f0e29b9d-c319-487a-f5cf-2ed75f1c4032"
      },
      "execution_count": null,
      "outputs": [
        {
          "output_type": "execute_result",
          "data": {
            "text/plain": [
              "   Feature1  Feature2 Feature3  Feature4  Feature5\n",
              "0  0.725955        78        A -0.424845      True\n",
              "1  0.001868        15        A  0.022627      True\n",
              "2  0.162716        34        B  0.697887      True\n",
              "3  0.834404        44        A -1.346521      True\n",
              "4  0.646498        40        A -0.615860      True\n",
              "5  0.794268        96        C -1.513152     False\n",
              "6  0.483159        79        B -0.195492      True\n",
              "7  0.929934         8        A  0.891921     False\n",
              "8  0.998020        96        A -0.230340     False\n",
              "9  0.453019        68        B  0.440360      True"
            ],
            "text/html": [
              "\n",
              "  <div id=\"df-5aafce3b-6297-4e56-989d-4525a6eb26d8\" class=\"colab-df-container\">\n",
              "    <div>\n",
              "<style scoped>\n",
              "    .dataframe tbody tr th:only-of-type {\n",
              "        vertical-align: middle;\n",
              "    }\n",
              "\n",
              "    .dataframe tbody tr th {\n",
              "        vertical-align: top;\n",
              "    }\n",
              "\n",
              "    .dataframe thead th {\n",
              "        text-align: right;\n",
              "    }\n",
              "</style>\n",
              "<table border=\"1\" class=\"dataframe\">\n",
              "  <thead>\n",
              "    <tr style=\"text-align: right;\">\n",
              "      <th></th>\n",
              "      <th>Feature1</th>\n",
              "      <th>Feature2</th>\n",
              "      <th>Feature3</th>\n",
              "      <th>Feature4</th>\n",
              "      <th>Feature5</th>\n",
              "    </tr>\n",
              "  </thead>\n",
              "  <tbody>\n",
              "    <tr>\n",
              "      <th>0</th>\n",
              "      <td>0.725955</td>\n",
              "      <td>78</td>\n",
              "      <td>A</td>\n",
              "      <td>-0.424845</td>\n",
              "      <td>True</td>\n",
              "    </tr>\n",
              "    <tr>\n",
              "      <th>1</th>\n",
              "      <td>0.001868</td>\n",
              "      <td>15</td>\n",
              "      <td>A</td>\n",
              "      <td>0.022627</td>\n",
              "      <td>True</td>\n",
              "    </tr>\n",
              "    <tr>\n",
              "      <th>2</th>\n",
              "      <td>0.162716</td>\n",
              "      <td>34</td>\n",
              "      <td>B</td>\n",
              "      <td>0.697887</td>\n",
              "      <td>True</td>\n",
              "    </tr>\n",
              "    <tr>\n",
              "      <th>3</th>\n",
              "      <td>0.834404</td>\n",
              "      <td>44</td>\n",
              "      <td>A</td>\n",
              "      <td>-1.346521</td>\n",
              "      <td>True</td>\n",
              "    </tr>\n",
              "    <tr>\n",
              "      <th>4</th>\n",
              "      <td>0.646498</td>\n",
              "      <td>40</td>\n",
              "      <td>A</td>\n",
              "      <td>-0.615860</td>\n",
              "      <td>True</td>\n",
              "    </tr>\n",
              "    <tr>\n",
              "      <th>5</th>\n",
              "      <td>0.794268</td>\n",
              "      <td>96</td>\n",
              "      <td>C</td>\n",
              "      <td>-1.513152</td>\n",
              "      <td>False</td>\n",
              "    </tr>\n",
              "    <tr>\n",
              "      <th>6</th>\n",
              "      <td>0.483159</td>\n",
              "      <td>79</td>\n",
              "      <td>B</td>\n",
              "      <td>-0.195492</td>\n",
              "      <td>True</td>\n",
              "    </tr>\n",
              "    <tr>\n",
              "      <th>7</th>\n",
              "      <td>0.929934</td>\n",
              "      <td>8</td>\n",
              "      <td>A</td>\n",
              "      <td>0.891921</td>\n",
              "      <td>False</td>\n",
              "    </tr>\n",
              "    <tr>\n",
              "      <th>8</th>\n",
              "      <td>0.998020</td>\n",
              "      <td>96</td>\n",
              "      <td>A</td>\n",
              "      <td>-0.230340</td>\n",
              "      <td>False</td>\n",
              "    </tr>\n",
              "    <tr>\n",
              "      <th>9</th>\n",
              "      <td>0.453019</td>\n",
              "      <td>68</td>\n",
              "      <td>B</td>\n",
              "      <td>0.440360</td>\n",
              "      <td>True</td>\n",
              "    </tr>\n",
              "  </tbody>\n",
              "</table>\n",
              "</div>\n",
              "    <div class=\"colab-df-buttons\">\n",
              "\n",
              "  <div class=\"colab-df-container\">\n",
              "    <button class=\"colab-df-convert\" onclick=\"convertToInteractive('df-5aafce3b-6297-4e56-989d-4525a6eb26d8')\"\n",
              "            title=\"Convert this dataframe to an interactive table.\"\n",
              "            style=\"display:none;\">\n",
              "\n",
              "  <svg xmlns=\"http://www.w3.org/2000/svg\" height=\"24px\" viewBox=\"0 -960 960 960\">\n",
              "    <path d=\"M120-120v-720h720v720H120Zm60-500h600v-160H180v160Zm220 220h160v-160H400v160Zm0 220h160v-160H400v160ZM180-400h160v-160H180v160Zm440 0h160v-160H620v160ZM180-180h160v-160H180v160Zm440 0h160v-160H620v160Z\"/>\n",
              "  </svg>\n",
              "    </button>\n",
              "\n",
              "  <style>\n",
              "    .colab-df-container {\n",
              "      display:flex;\n",
              "      gap: 12px;\n",
              "    }\n",
              "\n",
              "    .colab-df-convert {\n",
              "      background-color: #E8F0FE;\n",
              "      border: none;\n",
              "      border-radius: 50%;\n",
              "      cursor: pointer;\n",
              "      display: none;\n",
              "      fill: #1967D2;\n",
              "      height: 32px;\n",
              "      padding: 0 0 0 0;\n",
              "      width: 32px;\n",
              "    }\n",
              "\n",
              "    .colab-df-convert:hover {\n",
              "      background-color: #E2EBFA;\n",
              "      box-shadow: 0px 1px 2px rgba(60, 64, 67, 0.3), 0px 1px 3px 1px rgba(60, 64, 67, 0.15);\n",
              "      fill: #174EA6;\n",
              "    }\n",
              "\n",
              "    .colab-df-buttons div {\n",
              "      margin-bottom: 4px;\n",
              "    }\n",
              "\n",
              "    [theme=dark] .colab-df-convert {\n",
              "      background-color: #3B4455;\n",
              "      fill: #D2E3FC;\n",
              "    }\n",
              "\n",
              "    [theme=dark] .colab-df-convert:hover {\n",
              "      background-color: #434B5C;\n",
              "      box-shadow: 0px 1px 3px 1px rgba(0, 0, 0, 0.15);\n",
              "      filter: drop-shadow(0px 1px 2px rgba(0, 0, 0, 0.3));\n",
              "      fill: #FFFFFF;\n",
              "    }\n",
              "  </style>\n",
              "\n",
              "    <script>\n",
              "      const buttonEl =\n",
              "        document.querySelector('#df-5aafce3b-6297-4e56-989d-4525a6eb26d8 button.colab-df-convert');\n",
              "      buttonEl.style.display =\n",
              "        google.colab.kernel.accessAllowed ? 'block' : 'none';\n",
              "\n",
              "      async function convertToInteractive(key) {\n",
              "        const element = document.querySelector('#df-5aafce3b-6297-4e56-989d-4525a6eb26d8');\n",
              "        const dataTable =\n",
              "          await google.colab.kernel.invokeFunction('convertToInteractive',\n",
              "                                                    [key], {});\n",
              "        if (!dataTable) return;\n",
              "\n",
              "        const docLinkHtml = 'Like what you see? Visit the ' +\n",
              "          '<a target=\"_blank\" href=https://colab.research.google.com/notebooks/data_table.ipynb>data table notebook</a>'\n",
              "          + ' to learn more about interactive tables.';\n",
              "        element.innerHTML = '';\n",
              "        dataTable['output_type'] = 'display_data';\n",
              "        await google.colab.output.renderOutput(dataTable, element);\n",
              "        const docLink = document.createElement('div');\n",
              "        docLink.innerHTML = docLinkHtml;\n",
              "        element.appendChild(docLink);\n",
              "      }\n",
              "    </script>\n",
              "  </div>\n",
              "\n",
              "\n",
              "<div id=\"df-bcf978ec-3421-4814-81f5-1e0fcb2daa5a\">\n",
              "  <button class=\"colab-df-quickchart\" onclick=\"quickchart('df-bcf978ec-3421-4814-81f5-1e0fcb2daa5a')\"\n",
              "            title=\"Suggest charts.\"\n",
              "            style=\"display:none;\">\n",
              "\n",
              "<svg xmlns=\"http://www.w3.org/2000/svg\" height=\"24px\"viewBox=\"0 0 24 24\"\n",
              "     width=\"24px\">\n",
              "    <g>\n",
              "        <path d=\"M19 3H5c-1.1 0-2 .9-2 2v14c0 1.1.9 2 2 2h14c1.1 0 2-.9 2-2V5c0-1.1-.9-2-2-2zM9 17H7v-7h2v7zm4 0h-2V7h2v10zm4 0h-2v-4h2v4z\"/>\n",
              "    </g>\n",
              "</svg>\n",
              "  </button>\n",
              "\n",
              "<style>\n",
              "  .colab-df-quickchart {\n",
              "    background-color: #E8F0FE;\n",
              "    border: none;\n",
              "    border-radius: 50%;\n",
              "    cursor: pointer;\n",
              "    display: none;\n",
              "    fill: #1967D2;\n",
              "    height: 32px;\n",
              "    padding: 0 0 0 0;\n",
              "    width: 32px;\n",
              "  }\n",
              "\n",
              "  .colab-df-quickchart:hover {\n",
              "    background-color: #E2EBFA;\n",
              "    box-shadow: 0px 1px 2px rgba(60, 64, 67, 0.3), 0px 1px 3px 1px rgba(60, 64, 67, 0.15);\n",
              "    fill: #174EA6;\n",
              "  }\n",
              "\n",
              "  [theme=dark] .colab-df-quickchart {\n",
              "    background-color: #3B4455;\n",
              "    fill: #D2E3FC;\n",
              "  }\n",
              "\n",
              "  [theme=dark] .colab-df-quickchart:hover {\n",
              "    background-color: #434B5C;\n",
              "    box-shadow: 0px 1px 3px 1px rgba(0, 0, 0, 0.15);\n",
              "    filter: drop-shadow(0px 1px 2px rgba(0, 0, 0, 0.3));\n",
              "    fill: #FFFFFF;\n",
              "  }\n",
              "</style>\n",
              "\n",
              "  <script>\n",
              "    async function quickchart(key) {\n",
              "      const charts = await google.colab.kernel.invokeFunction(\n",
              "          'suggestCharts', [key], {});\n",
              "    }\n",
              "    (() => {\n",
              "      let quickchartButtonEl =\n",
              "        document.querySelector('#df-bcf978ec-3421-4814-81f5-1e0fcb2daa5a button');\n",
              "      quickchartButtonEl.style.display =\n",
              "        google.colab.kernel.accessAllowed ? 'block' : 'none';\n",
              "    })();\n",
              "  </script>\n",
              "</div>\n",
              "    </div>\n",
              "  </div>\n"
            ]
          },
          "metadata": {},
          "execution_count": 8
        }
      ]
    },
    {
      "cell_type": "markdown",
      "source": [
        "#Task 2 : Check the info of 'df'"
      ],
      "metadata": {
        "id": "rC8-b5G0w2qO"
      }
    },
    {
      "cell_type": "code",
      "source": [
        "print(df.info())"
      ],
      "metadata": {
        "colab": {
          "base_uri": "https://localhost:8080/"
        },
        "id": "xTog3mlTwrcD",
        "outputId": "802e08df-7424-42a0-a007-b8eb5bfaed9e"
      },
      "execution_count": null,
      "outputs": [
        {
          "output_type": "stream",
          "name": "stdout",
          "text": [
            "<class 'pandas.core.frame.DataFrame'>\n",
            "RangeIndex: 10 entries, 0 to 9\n",
            "Data columns (total 5 columns):\n",
            " #   Column    Non-Null Count  Dtype  \n",
            "---  ------    --------------  -----  \n",
            " 0   Feature1  10 non-null     float64\n",
            " 1   Feature2  10 non-null     int64  \n",
            " 2   Feature3  10 non-null     object \n",
            " 3   Feature4  10 non-null     float64\n",
            " 4   Feature5  10 non-null     bool   \n",
            "dtypes: bool(1), float64(2), int64(1), object(1)\n",
            "memory usage: 458.0+ bytes\n",
            "None\n"
          ]
        }
      ]
    },
    {
      "cell_type": "markdown",
      "source": [
        "#Task 3 : Check the descriptive statistics of 'df'"
      ],
      "metadata": {
        "id": "piqBkbAHw3vB"
      }
    },
    {
      "cell_type": "code",
      "source": [
        "print(df.describe())"
      ],
      "metadata": {
        "colab": {
          "base_uri": "https://localhost:8080/"
        },
        "id": "6t8RGlQ1wrnf",
        "outputId": "948db6ad-c581-459f-f180-2170628e67d6"
      },
      "execution_count": null,
      "outputs": [
        {
          "output_type": "stream",
          "name": "stdout",
          "text": [
            "        Feature1   Feature2   Feature4\n",
            "count  10.000000  10.000000  10.000000\n",
            "mean    0.602984  55.800000  -0.227341\n",
            "std     0.326961  32.016662   0.796796\n",
            "min     0.001868   8.000000  -1.513152\n",
            "25%     0.460554  35.500000  -0.568107\n",
            "50%     0.686227  56.000000  -0.212916\n",
            "75%     0.824370  78.750000   0.335927\n",
            "max     0.998020  96.000000   0.891921\n"
          ]
        }
      ]
    },
    {
      "cell_type": "markdown",
      "source": [
        "# Task 4 : Check the 4th index observation with 'loc' slicing operator"
      ],
      "metadata": {
        "id": "qVBcB9_zw4oj"
      }
    },
    {
      "cell_type": "code",
      "source": [
        "print(df.loc[4])"
      ],
      "metadata": {
        "colab": {
          "base_uri": "https://localhost:8080/"
        },
        "id": "YjEBf4mmwsCr",
        "outputId": "9084b937-c5d5-49d0-b49c-1281312f13b7"
      },
      "execution_count": null,
      "outputs": [
        {
          "output_type": "stream",
          "name": "stdout",
          "text": [
            "Feature1    0.646498\n",
            "Feature2          40\n",
            "Feature3           A\n",
            "Feature4    -0.61586\n",
            "Feature5        True\n",
            "Name: 4, dtype: object\n"
          ]
        }
      ]
    },
    {
      "cell_type": "markdown",
      "source": [
        "# Task 5 : Check the null values in 'df'"
      ],
      "metadata": {
        "id": "Ak91Pbedw6R5"
      }
    },
    {
      "cell_type": "code",
      "source": [
        "print(df.isnull().sum())"
      ],
      "metadata": {
        "colab": {
          "base_uri": "https://localhost:8080/"
        },
        "id": "i5_KctjwwsNH",
        "outputId": "3f5650e5-5d09-4169-c979-9a1a397c755d"
      },
      "execution_count": null,
      "outputs": [
        {
          "output_type": "stream",
          "name": "stdout",
          "text": [
            "Feature1    0\n",
            "Feature2    0\n",
            "Feature3    0\n",
            "Feature4    0\n",
            "Feature5    0\n",
            "dtype: int64\n"
          ]
        }
      ]
    }
  ]
}